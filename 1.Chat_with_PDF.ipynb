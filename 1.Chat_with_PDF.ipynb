{
 "cells": [
  {
   "cell_type": "markdown",
   "metadata": {},
   "source": [
    "## 0. Settings"
   ]
  },
  {
   "cell_type": "code",
   "execution_count": 1,
   "metadata": {},
   "outputs": [
    {
     "name": "stderr",
     "output_type": "stream",
     "text": [
      "/home/rnwnsgud1234/0.Files/anaconda3/envs/seminar/lib/python3.10/site-packages/tqdm/auto.py:21: TqdmWarning: IProgress not found. Please update jupyter and ipywidgets. See https://ipywidgets.readthedocs.io/en/stable/user_install.html\n",
      "  from .autonotebook import tqdm as notebook_tqdm\n"
     ]
    }
   ],
   "source": [
    "import os\n",
    "from pprint import pprint\n",
    "from langchain.document_loaders import WebBaseLoader, PyPDFLoader\n",
    "from langchain.indexes import VectorstoreIndexCreator\n",
    "from langchain.text_splitter import RecursiveCharacterTextSplitter\n",
    "from langchain.embeddings import OpenAIEmbeddings, HuggingFaceEmbeddings\n",
    "from langchain.vectorstores import Chroma\n",
    "from langchain.chains import RetrievalQA\n",
    "from langchain.chat_models import ChatOpenAI\n",
    "from langchain.schema import Document\n",
    "from langchain.callbacks import wandb_tracing_enabled\n",
    "from langchain_pipeline.model_hub import llm_resolver"
   ]
  },
  {
   "cell_type": "code",
   "execution_count": 2,
   "metadata": {},
   "outputs": [],
   "source": [
    "# OpenAI 모델들을 이용하려면 api key 를 적어야 합니다\n",
    "os.environ['OPENAI_API_KEY'] = \"YOUR_API_KEY\""
   ]
  },
  {
   "cell_type": "markdown",
   "metadata": {},
   "source": [
    "## 1. Data Loading"
   ]
  },
  {
   "cell_type": "code",
   "execution_count": 3,
   "metadata": {},
   "outputs": [],
   "source": [
    "# PDF 에서 text 추출하여 load 하기\n",
    "loader = PyPDFLoader(\"example_paper.pdf\")\n",
    "data = loader.load()"
   ]
  },
  {
   "cell_type": "markdown",
   "metadata": {},
   "source": [
    "## 2. Text data Splitting"
   ]
  },
  {
   "cell_type": "code",
   "execution_count": 4,
   "metadata": {},
   "outputs": [],
   "source": [
    "# text 를 chunk size 에 따라 자른 후 list 화 하기\n",
    "text_splitter = RecursiveCharacterTextSplitter(chunk_size = 500, chunk_overlap = 0)\n",
    "all_splits = text_splitter.split_documents(data)"
   ]
  },
  {
   "cell_type": "markdown",
   "metadata": {},
   "source": [
    "## 3. Store (PDF text to vector data)"
   ]
  },
  {
   "cell_type": "code",
   "execution_count": 5,
   "metadata": {},
   "outputs": [],
   "source": [
    "# pdf 에서 추출한 text 를 vector 화 시키기 위한 embedding model load\n",
    "\n",
    "# openai 의 embeding 을 이용하는 경우\n",
    "# embedding_model = OpenAIEmbeddings()\n",
    "\n",
    "# huggingface 의 opensource embedding 을 이용하는 경우\n",
    "embedding_model = HuggingFaceEmbeddings(model_name=\"sentence-transformers/all-MiniLM-L6-v2\")\n",
    "\n",
    "# pdf 에서 추출한 text 를 vector 화 시키고 저장하기 위한 vectorstore 생성\n",
    "vectorstore = Chroma.from_documents(documents=all_splits, embedding=embedding_model)"
   ]
  },
  {
   "cell_type": "markdown",
   "metadata": {},
   "source": [
    "## 4. Retrieve (Relative text query from vectorstore) (이 과정은 실제 chatPDF 할 때 쓰지는 않음)"
   ]
  },
  {
   "cell_type": "code",
   "execution_count": 6,
   "metadata": {},
   "outputs": [
    {
     "data": {
      "text/plain": [
       "[Document(page_content='Illustrative example for diﬀerentiating NaCl and KCl\\nWe provide a simple illustrative example to explain how CGCNN works by completing the task of diﬀerentiating\\nthe structures of NaCl and KCl. Concretely, the task is to predict +1 if the crystal structure is NaCl and -1 if the\\nstructure is KCl. We can accomplish it with a CGCNN with only one convolutional layer and one pooling layer.', metadata={'page': 6, 'source': 'example_paper.pdf'}),\n",
       " Document(page_content='ˆyNaCl = 3wc1+ 3wc2+ 0.5ws1+ 0.5ws2 (S9)\\nˆyKCl= 4wc1+ 4wc3+ 0.5ws1+ 0.5ws3 (S10)\\nWe can easily ﬁnd WcandWsthat make ˆ yNaCl = 1 and ˆyKCl=−1, showing that CGCNN are capable of\\ndiﬀerentiating NaCl and KCl. In this example, the existence of certain weights wciorwsiin Eq. S9 and Eq. S10\\nindicates the occurrence of elements as centers or neighbors respectively, while the factor represents the frequency of\\noccurrence, both of which can help diﬀerentiating the two crystals.', metadata={'page': 7, 'source': 'example_paper.pdf'}),\n",
       " Document(page_content='In Fig. S1, we convert the original crystal structures of NaCl and KCl to their corresponding crystal graphs. Note\\nthat the four Na and Cl nodes in the crystal graph of NaCl all have the same chemical environments, and we can\\nactually simplify it to a crystal graph with two nodes. Here we use this eight-node crystal graph to illustrate that\\nCGCNN is invariant to the choice of unit cells. For simplicity, we only use atom feature vectors without bond feature', metadata={'page': 6, 'source': 'example_paper.pdf'}),\n",
       " Document(page_content='3\\nless than 60 atoms(Figure S2). Considering most of the\\ncrystals originate from the Inorganic Crystal Structure\\nDatabase (ICSD)[19], this database is a good represen-\\ntation of known stoichiometric inorganic crystals.\\nThe CGCNN is a ﬂexible framework that allows vari-\\nance in the crystal graph representation, neural network\\narchitecture, and training process, resulting in diﬀerent\\nfin Eq. 3 and prediction performance. To choose the\\nbest model, we apply a train-validation scheme to op-', metadata={'page': 2, 'source': 'example_paper.pdf'})]"
      ]
     },
     "execution_count": 6,
     "metadata": {},
     "output_type": "execute_result"
    }
   ],
   "source": [
    "# search the most similar documents to a question\n",
    "question = \"What is the full name of CGCNN?\"\n",
    "vectorstore.similarity_search(question, k=4)"
   ]
  },
  {
   "cell_type": "markdown",
   "metadata": {},
   "source": [
    "## 5. Chat with PDF"
   ]
  },
  {
   "cell_type": "code",
   "execution_count": 7,
   "metadata": {},
   "outputs": [
    {
     "name": "stderr",
     "output_type": "stream",
     "text": [
      "The safetensors archive passed at /home/rnwnsgud1234/.cache/huggingface/hub/models--TheBloke--Llama-2-13B-chat-GPTQ/snapshots/01bfd1c28783056bf8817b6d487f0efbbabe1804/gptq_model-4bit-128g.safetensors does not contain metadata. Make sure to save your model with the `save_pretrained` method. Defaulting to 'pt' metadata.\n",
      "Xformers is not installed correctly. If you want to use memory_efficient_attention to accelerate training use the following command to install Xformers\n",
      "pip install xformers.\n",
      "The model 'LlamaGPTQForCausalLM' is not supported for text-generation. Supported models are ['BartForCausalLM', 'BertLMHeadModel', 'BertGenerationDecoder', 'BigBirdForCausalLM', 'BigBirdPegasusForCausalLM', 'BioGptForCausalLM', 'BlenderbotForCausalLM', 'BlenderbotSmallForCausalLM', 'BloomForCausalLM', 'CamembertForCausalLM', 'CodeGenForCausalLM', 'CpmAntForCausalLM', 'CTRLLMHeadModel', 'Data2VecTextForCausalLM', 'ElectraForCausalLM', 'ErnieForCausalLM', 'FalconForCausalLM', 'GitForCausalLM', 'GPT2LMHeadModel', 'GPT2LMHeadModel', 'GPTBigCodeForCausalLM', 'GPTNeoForCausalLM', 'GPTNeoXForCausalLM', 'GPTNeoXJapaneseForCausalLM', 'GPTJForCausalLM', 'LlamaForCausalLM', 'MarianForCausalLM', 'MBartForCausalLM', 'MegaForCausalLM', 'MegatronBertForCausalLM', 'MusicgenForCausalLM', 'MvpForCausalLM', 'OpenLlamaForCausalLM', 'OpenAIGPTLMHeadModel', 'OPTForCausalLM', 'PegasusForCausalLM', 'PLBartForCausalLM', 'ProphetNetForCausalLM', 'QDQBertLMHeadModel', 'ReformerModelWithLMHead', 'RemBertForCausalLM', 'RobertaForCausalLM', 'RobertaPreLayerNormForCausalLM', 'RoCBertForCausalLM', 'RoFormerForCausalLM', 'RwkvForCausalLM', 'Speech2Text2ForCausalLM', 'TransfoXLLMHeadModel', 'TrOCRForCausalLM', 'XGLMForCausalLM', 'XLMWithLMHeadModel', 'XLMProphetNetForCausalLM', 'XLMRobertaForCausalLM', 'XLMRobertaXLForCausalLM', 'XLNetLMHeadModel', 'XmodForCausalLM'].\n"
     ]
    }
   ],
   "source": [
    "# LLM model loading\n",
    "\n",
    "# GPT 를 활용하는 경우\n",
    "#llm = ChatOpenAI(model_name=\"gpt-3.5-turbo\", temperature=0)\n",
    "\n",
    "# Open source model 을 활용하는 경우 (langchain_pipeline/model_hub 에 존재하는 model 만 사용 가능 (function 의 이름을 string 으로 입력하면 됨))\n",
    "llm = llm_resolver(\"llama_v2_13b_chat_gptq\", device=0)"
   ]
  },
  {
   "cell_type": "code",
   "execution_count": 8,
   "metadata": {},
   "outputs": [],
   "source": [
    "# chat with vectorstore chain 생성\n",
    "# search_kwargs={'k': 4} : 질문과 유사한 문서 4개를 찾아서 그 문서들을 chain의 input으로 사용\n",
    "# chain_type=\"stuff\" : chain의 종류를 stuff로 설정 (map_rerank, stuff, map_reduce, refine)\n",
    "qa_chain = RetrievalQA.from_chain_type(llm, retriever=vectorstore.as_retriever(search_kwargs={'k': 4}), chain_type=\"stuff\", return_source_documents=True, chain_type_kwargs={\"verbose\": True})"
   ]
  },
  {
   "cell_type": "code",
   "execution_count": 9,
   "metadata": {},
   "outputs": [
    {
     "name": "stdout",
     "output_type": "stream",
     "text": [
      "\n",
      "\n",
      "\u001b[1m> Entering new StuffDocumentsChain chain...\u001b[0m\n",
      "\n",
      "\n",
      "\u001b[1m> Entering new LLMChain chain...\u001b[0m\n",
      "Prompt after formatting:\n",
      "\u001b[32;1m\u001b[1;3mUse the following pieces of context to answer the question at the end. If you don't know the answer, just say that you don't know, don't try to make up an answer.\n",
      "\n",
      "S. Dacek, S. Cholia, D. Gunter, D. Skinner, G. Ceder,\n",
      "et al. , Apl Materials 1, 011002 (2013).\n",
      "[12] See Supplemental Material for further details, including\n",
      "Refs. [4, 24, 32–39].\n",
      "[13] A. Krizhevsky, I. Sutskever, and G. E. Hinton, in Ad-\n",
      "vances in neural information processing systems (2012)\n",
      "pp. 1097–1105.\n",
      "[14] R. Collobert and J. Weston, in Proceedings of the 25th in-\n",
      "ternational conference on Machine learning (ACM, 2008)\n",
      "pp. 160–167.\n",
      "[15] D. K. Duvenaud, D. Maclaurin, J. Iparraguirre, R. Bom-\n",
      "\n",
      "tions. The shaded area denotes the MAE of DFT calculation\n",
      "compared with experiments[18]. (c) 2D histogram represent-\n",
      "ing the predicted formation per atom against DFT calculated\n",
      "value. (d) Receiver operating characteristic (ROC) curve vi-\n",
      "sualizing the result of metal-semiconductor classiﬁcation. It\n",
      "plots the proportion of correctly identiﬁed metals (true pos-\n",
      "itive rate) against the proportion of wrongly identiﬁed semi-\n",
      "conductors (false positive rate) under diﬀerent thresholds.\n",
      "\n",
      "3\n",
      "vc=∑\n",
      "t,i˜v(t)\n",
      "i (S13)\n",
      "To get better interpretability, we directly map the ﬁnal feature vector after Rconvolutional layers and L1hidden\n",
      "layers v(R)\n",
      "ito a scalar ˜ viusing a linear transform (Eq. S14), and then summing up the scalars to predict the target\n",
      "propertyvc. After training with the global property vc, the model automatically learns the contribution of each local\n",
      "chemical environments represented by ˜ vi.\n",
      "˜vi=WTv(R)\n",
      "i+b (S14)\n",
      "vc=1\n",
      "N∑\n",
      "i˜vi (S15)\n",
      "\n",
      "5\n",
      "2 3 9\n",
      "# atom feat# es0.00.10.20.30.40.5MAE (eV/atom)(a)\n",
      "Conv 1\n",
      "Conv 2\n",
      "1 2 3 4 5\n",
      "# conv laye s0.00.10.20.30.40.5(b)\n",
      "Conv 1\n",
      "Conv 2\n",
      "−8−7−6−5−4−3\n",
      "log(step size)0.00.10.20.30.40.5(c)\n",
      "Conv 1\n",
      "Conv 2\n",
      "FIG. S3. The eﬀect of diﬀerent hyperparameters on the validation mean absolute errors (MAEs). The blue points denotes\n",
      "models using convolution function Eq. 4, and the red points denotes models using Eq. 5. (a) Number of atom features. The\n",
      "\n",
      "Question: Please summary this paper.\n",
      "Helpful Answer:\u001b[0m\n"
     ]
    },
    {
     "name": "stdout",
     "output_type": "stream",
     "text": [
      "\n",
      "\u001b[1m> Finished chain.\u001b[0m\n",
      "\n",
      "\u001b[1m> Finished chain.\u001b[0m\n",
      "'==========================================================='\n",
      "'Question: Please summary this paper.'\n",
      "('Answer:  This paper describes a deep learning model for predicting material '\n",
      " 'properties. The model uses a combination of convolutional and fully '\n",
      " \"connected layers to learn the relationship between the material's chemical \"\n",
      " 'composition and its properties. The model is trained on a large dataset of '\n",
      " 'materials and is able to accurately predict the properties of new materials. '\n",
      " 'The paper also explores the use of diﬀerent hyperparameters and their eﬀect '\n",
      " \"on the model's performance.\")\n"
     ]
    }
   ],
   "source": [
    "question = \"Please summary this paper.\"\n",
    "result = qa_chain({\"query\": question})\n",
    "pprint(\"===========================================================\")\n",
    "pprint(f\"Question: {result['query']}\")\n",
    "pprint(f\"Answer: {result['result']}\")"
   ]
  },
  {
   "cell_type": "code",
   "execution_count": 10,
   "metadata": {},
   "outputs": [
    {
     "name": "stdout",
     "output_type": "stream",
     "text": [
      "\n",
      "\n",
      "\u001b[1m> Entering new StuffDocumentsChain chain...\u001b[0m\n",
      "\n",
      "\n",
      "\u001b[1m> Entering new LLMChain chain...\u001b[0m\n",
      "Prompt after formatting:\n",
      "\u001b[32;1m\u001b[1;3mUse the following pieces of context to answer the question at the end. If you don't know the answer, just say that you don't know, don't try to make up an answer.\n",
      "\n",
      "Illustrative example for diﬀerentiating NaCl and KCl\n",
      "We provide a simple illustrative example to explain how CGCNN works by completing the task of diﬀerentiating\n",
      "the structures of NaCl and KCl. Concretely, the task is to predict +1 if the crystal structure is NaCl and -1 if the\n",
      "structure is KCl. We can accomplish it with a CGCNN with only one convolutional layer and one pooling layer.\n",
      "\n",
      "ˆyNaCl = 3wc1+ 3wc2+ 0.5ws1+ 0.5ws2 (S9)\n",
      "ˆyKCl= 4wc1+ 4wc3+ 0.5ws1+ 0.5ws3 (S10)\n",
      "We can easily ﬁnd WcandWsthat make ˆ yNaCl = 1 and ˆyKCl=−1, showing that CGCNN are capable of\n",
      "diﬀerentiating NaCl and KCl. In this example, the existence of certain weights wciorwsiin Eq. S9 and Eq. S10\n",
      "indicates the occurrence of elements as centers or neighbors respectively, while the factor represents the frequency of\n",
      "occurrence, both of which can help diﬀerentiating the two crystals.\n",
      "\n",
      "In Fig. S1, we convert the original crystal structures of NaCl and KCl to their corresponding crystal graphs. Note\n",
      "that the four Na and Cl nodes in the crystal graph of NaCl all have the same chemical environments, and we can\n",
      "actually simplify it to a crystal graph with two nodes. Here we use this eight-node crystal graph to illustrate that\n",
      "CGCNN is invariant to the choice of unit cells. For simplicity, we only use atom feature vectors without bond feature\n",
      "\n",
      "3\n",
      "less than 60 atoms(Figure S2). Considering most of the\n",
      "crystals originate from the Inorganic Crystal Structure\n",
      "Database (ICSD)[19], this database is a good represen-\n",
      "tation of known stoichiometric inorganic crystals.\n",
      "The CGCNN is a ﬂexible framework that allows vari-\n",
      "ance in the crystal graph representation, neural network\n",
      "architecture, and training process, resulting in diﬀerent\n",
      "fin Eq. 3 and prediction performance. To choose the\n",
      "best model, we apply a train-validation scheme to op-\n",
      "\n",
      "Question: What is the full name of CGCNN?\n",
      "Helpful Answer:\u001b[0m\n",
      "\n",
      "\u001b[1m> Finished chain.\u001b[0m\n",
      "\n",
      "\u001b[1m> Finished chain.\u001b[0m\n",
      "'==========================================================='\n",
      "'Question: What is the full name of CGCNN?'\n",
      "'Answer:  The full name of CGCNN is Crystal Graph Convolutional Neural Network.'\n"
     ]
    }
   ],
   "source": [
    "question = \"What is the full name of CGCNN?\"\n",
    "result = qa_chain({\"query\": question})\n",
    "pprint(\"===========================================================\")\n",
    "pprint(f\"Question: {result['query']}\")\n",
    "pprint(f\"Answer: {result['result']}\")"
   ]
  },
  {
   "cell_type": "code",
   "execution_count": 11,
   "metadata": {},
   "outputs": [
    {
     "name": "stdout",
     "output_type": "stream",
     "text": [
      "\n",
      "\n",
      "\u001b[1m> Entering new StuffDocumentsChain chain...\u001b[0m\n",
      "\n",
      "\n",
      "\u001b[1m> Entering new LLMChain chain...\u001b[0m\n",
      "Prompt after formatting:\n",
      "\u001b[32;1m\u001b[1;3mUse the following pieces of context to answer the question at the end. If you don't know the answer, just say that you don't know, don't try to make up an answer.\n",
      "\n",
      "generate the crystal graph, architecture parameters that are used to deﬁne the convolutional neural network on top of\n",
      "the crystal graph, and training parameters that are used for the training process. Unlike the weights that are trained\n",
      "via SGD, the hyperparameters are chosen through a train-validation process.\n",
      "We ﬁrst randomly divide our database into three parts: training set (60%), validation set (20%), and test set\n",
      "\n",
      "2\n",
      "(a), a crystal graph Gis an undirected multigraph which\n",
      "is deﬁned by nodes representing atoms and edges rep-\n",
      "resenting connections between atoms in a crystal (the\n",
      "method for determining atom connectivity is explained\n",
      "in Supplemental Material[12]). The crystal graph is un-\n",
      "like normal graphs since it allows multiple edges between\n",
      "the same pair of end nodes, a characteristic for crystal\n",
      "graphs due to their periodicity, in contrast to molecular\n",
      "\n",
      "7\n",
      "102103104105\n",
      "Number  of training crystals0.000.050.100.150.200.250.30MAE (Log(GPa))DFT MAE\n",
      "Model MAE\n",
      "FIG. S5. The MAE of predicted bulk modulus with respect to DFT values against the number of training crystals. The dashed\n",
      "line shows the MAE of DFT calculations with respect to experimental results [S24], which is 0.050 Log(GPa).\n",
      "0 1 2 3 4 5\n",
      "Calculated Ef012345Predicted Ef\n",
      "4812162024283236\n",
      "Count\n",
      "\n",
      "tions. The shaded area denotes the MAE of DFT calculation\n",
      "compared with experiments[18]. (c) 2D histogram represent-\n",
      "ing the predicted formation per atom against DFT calculated\n",
      "value. (d) Receiver operating characteristic (ROC) curve vi-\n",
      "sualizing the result of metal-semiconductor classiﬁcation. It\n",
      "plots the proportion of correctly identiﬁed metals (true pos-\n",
      "itive rate) against the proportion of wrongly identiﬁed semi-\n",
      "conductors (false positive rate) under diﬀerent thresholds.\n",
      "\n",
      "Question: What is the database name of used in this paper?\n",
      "Helpful Answer:\u001b[0m\n"
     ]
    },
    {
     "name": "stdout",
     "output_type": "stream",
     "text": [
      "\n",
      "\u001b[1m> Finished chain.\u001b[0m\n",
      "\n",
      "\u001b[1m> Finished chain.\u001b[0m\n",
      "'==========================================================='\n",
      "'Question: What is the database name of used in this paper?'\n",
      "('Answer:  The database name used in this paper is not explicitly mentioned, '\n",
      " 'but based on the context, it is likely that the database contains '\n",
      " 'information about crystal structures and their properties.')\n"
     ]
    }
   ],
   "source": [
    "question = \"What is the database name of used in this paper?\"\n",
    "result = qa_chain({\"query\": question})\n",
    "pprint(\"===========================================================\")\n",
    "pprint(f\"Question: {result['query']}\")\n",
    "pprint(f\"Answer: {result['result']}\")"
   ]
  },
  {
   "cell_type": "code",
   "execution_count": null,
   "metadata": {},
   "outputs": [],
   "source": []
  }
 ],
 "metadata": {
  "kernelspec": {
   "display_name": "langchain",
   "language": "python",
   "name": "python3"
  },
  "language_info": {
   "codemirror_mode": {
    "name": "ipython",
    "version": 3
   },
   "file_extension": ".py",
   "mimetype": "text/x-python",
   "name": "python",
   "nbconvert_exporter": "python",
   "pygments_lexer": "ipython3",
   "version": "3.10.12"
  },
  "orig_nbformat": 4
 },
 "nbformat": 4,
 "nbformat_minor": 2
}
